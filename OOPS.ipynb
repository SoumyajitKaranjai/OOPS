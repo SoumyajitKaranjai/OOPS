{
  "nbformat": 4,
  "nbformat_minor": 0,
  "metadata": {
    "colab": {
      "provenance": []
    },
    "kernelspec": {
      "name": "python3",
      "display_name": "Python 3"
    },
    "language_info": {
      "name": "python"
    }
  },
  "cells": [
    {
      "cell_type": "markdown",
      "source": [
        "1.What is Object-Oriented Programming (OOP)?\n",
        "\n",
        "\n",
        "*   Object-Oriented Programming (OOP) is a programming paradigm that structures software design around objects rather than functions and logic. An object is a self-contained unit that bundles both data (attributes or properties) and the operations (methods or functions) that can be performed on that data.\n",
        "\n",
        "2. What is a class in OOP?\n",
        "\n",
        "\n",
        "*   A class in Object-Oriented Programming (OOP) is a blueprint  for creating objects, which are specific instances that express both data (attributes or member variables) and behavior (methods or member functions). The class defines the structure and capabilities that its objects will have, such as what data they store and what operations they can perform.\n",
        "\n",
        "3.What is an object in OOP?\n",
        "\n",
        "\n",
        "*   An object in Object-Oriented Programming (OOP) is a fundamental unit that combines both data and behavior. Specifically, an object is an instance of a class, created with its own unique data (state) and the ability to perform actions (behavior) defined by methods.\n",
        "\n",
        "Objects have three main characteristics:\n",
        "\n",
        "Identity: Each object is distinct and can be uniquely identified within a program.\n",
        "\n",
        "State: The data or properties held by the object, often stored in  attributes.\n",
        "\n",
        "Behavior: The actions or methods the object can perform.\n",
        "\n",
        "4.What is the difference between abstraction and encapsulation?\n",
        "\n",
        "\n",
        "*   **Abstraction:-**Abstraction is about simplifying complex systems by showing only the essential features and hiding unnecessary details. Abstraction is typically achieved through abstract classes.\n",
        "*   **Encapsulation**:-Encapsulation is about bundling data and methods that operate on that data into a single unit (usually a class), and restricting access to some of the object's components. The data is accessed or modified,  using access modifiers like private, protected, and public, as well as getters and setters.\n",
        "\n",
        "5.What are dunder methods in Python?\n",
        "\n",
        "\n",
        "*   Dunder /magic /special methods are the methods defined by built-in classes in python.\n",
        "*   Dunder methods are defined for creating custom objects.These methods are also used for implementing operator overloading in python.\n",
        "\n",
        "6. Explain the concept of inheritance in OOP.\n",
        "\n",
        "\n",
        "*   Inheritance in Python is an Object-Oriented Programming (OOP) concept that allows a class (called the child or subclass) to acquire the properties and methods of another class (called the parent or superclass). This promotes code reuse and enables you to build upon existing code without rewriting it.\n",
        "*   Syntax :         \n",
        "              class Baseclass:\n",
        "                     Body of base class\n",
        "               class Derivedclass(Base class):\n",
        "                      Body of derived class\n",
        "\n",
        "\n",
        "\n",
        "*   Types of Inheritance:-\n",
        "\n",
        "a. Single Inheritance\n",
        "\n",
        "b. Multi-level Inheritance\n",
        "\n",
        "c.Multiple Inheritance\n",
        "\n",
        "d.Hierarchial Inheritance\n",
        "\n",
        "e.Hybrid Inheritance\n",
        "\n",
        "7.What is polymorphism in OOP?\n",
        "\n",
        "\n",
        "*   Polymorphism in Python, as an OOP concept, refers to the ability to use a single function, method, or operator name to perform different tasks depending on the object or data type it is operating on. The term \"polymorphism\" means \"many forms,\" and in Python, it enables code to be more flexible and reusable by allowing the same interface to be used for different underlying forms (data types or classes).\n",
        "\n",
        "8.How is encapsulation achieved in Python?\n",
        "\n",
        "\n",
        "\n",
        "*   Encapsulation in Python is achieved by bundling data (attributes) and methods (functions) within a single class, and by controlling access to these components using naming conventions and getter/setter methods.\n",
        "\n",
        "9.What is a constructor in Python?\n",
        "\n",
        "\n",
        "*   A constructor in Python is a special method that is automatically called when a new object of a class is created. Its main purpose is to initialize the object's attributes (data members) and set up its initial state. In Python, the constructor method is always named init.\n",
        "  \n",
        "*  The constructor method is defined as def __init__(self, ...) inside a class. The first parameter, self, refers to the instance being created.\n",
        "\n",
        "\n",
        "*  When an object is created, Python automatically calls the __init__ method to initialize the object's attributes.\n",
        "\n",
        "Constructors can be:\n",
        "\n",
        " a. Default constructors: Take only self as an argument and initialize attributes with default values.\n",
        "\n",
        "  b.Parameterized constructors: Take additional arguments to initialize attributes with custom values.\n",
        "\n",
        "  10.What are class and static methods in Python?\n",
        "\n",
        "  **Class Methods:-**\n",
        "\n",
        "\n",
        "*   Defined using the @classmethod decorator.\n",
        "*   Take cls (the class itself) as the first parameter instead of self.\n",
        "\n",
        "\n",
        "*   Can access and modify class-level data, but not instance-specific data.\n",
        "*   Commonly used for factory methods or alternative constructors that create class instances in different ways.\n",
        "\n",
        "**Static Methods:-**\n",
        "\n",
        "\n",
        "*   Defined using the @staticmethod decorator.\n",
        "*   Do not take self or cls as the first parameter.\n",
        "*  Cannot access or modify class or instance state directly.\n",
        "*  Used for utility functions that are related to the class but don't need to access class or instance data.\n",
        "\n",
        "11. What is method overloading in Python?\n",
        "\n",
        "\n",
        "*   Method overloading in Python refers to the ability to define a method in such a way that it can handle different numbers or types of arguments, allowing the same method name to be used for different functionalities depending on how it is called. Python does not support method overloading in the traditional sense, where multiple methods with the same name but different parameter lists can coexist in a class. In Python, if you define multiple methods with the same name, only the last definition is retained, and earlier ones are overridden.\n",
        "\n",
        "12.What is method overriding in OOP?\n",
        "\n",
        "\n",
        "\n",
        "*   Method overriding in Object-Oriented Programming (OOP) is a feature that allows a subclass (child class) to provide a specific implementation of a method that is already defined in its superclass (parent class). The overriding method in the subclass must have the same name and signature (parameters) as the method in the parent class. When an object of the subclass calls the method, the subclass's version is executed, overriding the parent's version for that object.\n",
        "\n",
        "13.What is a property decorator in Python?\n",
        "\n",
        "\n",
        "*  A property decorator in Python, denoted by @property, is a built-in decorator that allows you to turn a class method into a property, enabling you to access it like an attribute . This approach provides a clean  way to manage attribute access, encapsulate data, and add logic such as validation, computation, or logging when attributes are accessed or modified.\n",
        "\n",
        "14.Why is polymorphism important in OOP?\n",
        "\n",
        "\n",
        "\n",
        "*   Polymorphism is crucial in Object-Oriented Programming (OOP) because it allows objects of different classes to be treated through a common interface, enabling a single action or method name to operate differently depending on the object it is applied to.\n",
        "\n",
        "Advantages of polymorphism:-\n",
        "\n",
        "a.Code Reusability and Extensibility: Developers can write generic code that works with different types of objects, reducing redundancy and making it easier to extend systems by adding new subclasses without modifying existing code.\n",
        "\n",
        "b.Improved Maintainability: Code becomes easier to maintain and update, as changes or extensions can often be made in new subclasses rather than altering established codebases.\n",
        "\n",
        "c.Enhanced Readability and Organization: By using a single method name for multiple behaviors, code is more concise, readable, and organized, avoiding complex conditional statements and special-case logic.\n",
        "\n",
        "d.Simplified Debugging and Error Handling: Polymorphic code is often easier to debug and extend, as it centralizes behavior and reduces code duplication.\n",
        "\n",
        "15.What is an abstract class in Python?\n",
        "\n",
        "\n",
        "*   An abstract class in Python is a class that cannot be instantiated directly and is designed to serve as a blueprint for other classes. It defines a common interface with one or more abstract methods that must be implemented by any concrete subclass. Abstract classes help enforce a certain structure and behavior across subclasses, ensuring consistency and predictability in large or complex codebases.\n",
        "\n",
        "16.What are the advantages of OOP?\n",
        "\n",
        "The advantages of Object-Oriented Programming (OOP) include:\n",
        "\n",
        "a.Modularity: OOP divides complex software systems into smaller, manageable objects or modules, making the code easier to understand, develop, and maintain.\n",
        "\n",
        "b.Code Reusability: Through inheritance, classes can reuse existing code, reducing duplication, saving development time, and lowering costs.\n",
        "\n",
        "c.Encapsulation and Security: OOP bundles data and methods within objects, restricting direct access to internal data and protecting it from unintended modifications, thereby enhancing security and data integrity.\n",
        "\n",
        "d.Flexibility and Scalability: Polymorphism and encapsulation allow programs to be flexible and extensible, enabling easy addition or modification of features without affecting the entire codebase.\n",
        "\n",
        "e.Improved Collaboration: By organizing code into self-contained objects, teams can work independently on different components, facilitating better collaboration and parallel development.\n",
        "\n",
        "f.Easier Maintenance and Debugging: Isolating functionality within objects helps pinpoint bugs quickly and update or fix parts of the code without impacting the whole system.\n",
        "\n",
        "g.Better Code Organization and Readability: OOP models real-world entities, making software design intuitive and code more readable and maintainable.\n",
        "\n",
        "h.Increased Productivity: Using pre-written, reusable objects and modular design accelerates development and improves software quality at a lower cost.\n",
        "\n",
        "i.Supports Robust Software Design: OOP encourages good design principles, reducing errors and making systems more reliable and easier to extend.\n",
        "\n",
        "17.What is the difference between a class variable and an instance variable?\n",
        "\n",
        "**Class Variable:-**\n",
        "\n",
        "\n",
        "*   Defined within the class but outside any instance method.\n",
        "*   Shared by all instances of the class.\n",
        "\n",
        "\n",
        "*   Stored once for the class and shared across all instances.\n",
        "*   Changing it affects all instances unless overridden in an instance.\n",
        "\n",
        "**Instance Variable:-**\n",
        "\n",
        "\n",
        "\n",
        "* Defined inside instance methods, usually inside __init__, using self.  \n",
        "*   Unique to each instance of the class.\n",
        "\n",
        "\n",
        "*  Stored separately in each instance's namespace.\n",
        "*  Changing it affects only that specific instance.\n",
        "\n",
        "18.What is multiple inheritance in Python?\n",
        "\n",
        "\n",
        "\n",
        "*   Multiple inheritance in Python is a feature where a single class (called the child or derived class) inherits attributes and methods from more than one parent (super) class. This allows the child class to combine and reuse functionality from multiple sources, modeling complex relationships more naturally.\n",
        "\n",
        "19.Explain the purpose of '__str__' and '__repr__'  methods in Python.\n",
        "\n",
        "**__repr__:**\n",
        "\n",
        "\n",
        "\n",
        "*   Intended to provide an official, unambiguous string representation of an object.\n",
        "*   The string returned by __repr__ should ideally be a valid Python expression that can be used to recreate the object.\n",
        "\n",
        "\n",
        "*   Used by the built-in repr() function and in interactive Python shells when inspecting objects.\n",
        "\n",
        "20.What is the significance of the 'super()' function in Python?\n",
        "\n",
        "\n",
        "\n",
        "*  Supports Inheritance and Code Reuse: It allows a subclass to invoke methods of its superclass, facilitating reuse of existing functionality and avoiding code duplication.\n",
        "*   Enables Cooperative Multiple Inheritance: In complex inheritance hierarchies with multiple parent classes, super() ensures that the next method in the MRO is called, allowing all relevant parent classes to be properly initialized or have their methods executed without hard-coding class names.\n",
        "\n",
        "\n",
        "*   Simplifies Maintenance: By not hardcoding the parent class name, super() makes the code more maintainable and flexible. If the class hierarchy changes, calls via super() still work correctly.\n",
        "*   Avoids Redundant Calls: Using super() prevents calling the same method multiple times in multiple inheritance scenarios, following the MRO to call each method once.\n",
        "\n",
        "21.What is the significance of the __del__ method in Python?\n",
        "\n",
        "\n",
        "\n",
        "*   The __del__ method in Python is a special method known as a finalizer or sometimes referred to as a destructor. Its significance lies in the fact that Python calls __del__ automatically when an object is about to be destroyed by the garbage collector, which happens after all references to that object have been removed.\n",
        "\n",
        "22.What is the difference between @staticmethod and @classmethod in Python?\n",
        "\n",
        "**@classmethod** :\n",
        "\n",
        "\n",
        "\n",
        "*   Decorated with @classmethod.\n",
        "*   The method receives the class itself (cls) as the first argument.\n",
        "\n",
        "\n",
        "*   Can access and modify class-level attributes and call other class methods.\n",
        "*   Can be called on both the class and its instances.\n",
        "\n",
        "**@staticmethod** :\n",
        "\n",
        "\n",
        "\n",
        "*   Decorated with @staticmethod.\n",
        "*   Does not receive self or cls automatically; it behaves like a regular function placed inside a class.\n",
        "\n",
        "\n",
        "*   Cannot access or modify class or instance attributes directly.\n",
        "*   Can be called on both the class and its instances.\n",
        "\n",
        "23.How does polymorphism work in Python with inheritance?\n",
        "\n",
        "\n",
        "\n",
        "*   A base (parent) class defines common methods that are shared by all subclasses.\n",
        "*   Subclasses inherit these methods but can also override them to provide specialized behavior.\n",
        "\n",
        "\n",
        "*   When a method is called on an object, Python determines at runtime which class’s method to execute, based on the object’s actual type (dynamic dispatch).\n",
        "*   This enables writing generic code that works with objects of the parent class type but executes subclass-specific behavior.\n",
        "\n",
        "24.What is method chaining in Python OOP?\n",
        "\n",
        "\n",
        "\n",
        "*   Method chaining in Python OOP is a programming pattern where multiple methods are called sequentially on the same object in a single line of code. Each method performs an operation and then returns the object itself (usually self), allowing the next method to be called directly on the returned object.\n",
        "\n",
        "25.What is the purpose of the __call__ method in Python?\n",
        "\n",
        "\n",
        "\n",
        "*   Turn instances into callable objects: Instead of calling a method explicitly, you can call the instance itself.\n",
        "*   Create function-like objects: Useful for scenarios like counters, function factories, decorators, or any object that needs to behave like a function but also hold data or configuration.\n",
        "\n",
        "\n",
        "*   Encapsulate functionality: You can package function-like behavior inside objects that can maintain state.\n",
        "\n",
        "\n",
        "\n",
        "\n",
        "\n",
        "\n",
        "\n",
        "\n",
        "\n",
        "\n",
        "\n",
        "\n",
        "\n",
        "\n",
        "\n",
        "\n",
        "\n",
        "\n",
        "\n",
        "\n",
        "\n",
        "\n",
        "\n",
        "\n",
        "\n",
        "\n",
        "\n",
        "\n",
        "\n",
        "\n",
        "\n",
        "\n",
        "\n",
        "\n",
        "\n",
        "\n",
        "\n",
        "\n",
        "\n",
        "  \n",
        "\n",
        "\n",
        "\n",
        "\n",
        "\n",
        "\n",
        "\n",
        "\n",
        "\n",
        "\n",
        "\n",
        "\n",
        "\n",
        "\n",
        "\n",
        "\n",
        "\n",
        "\n",
        "\n",
        "\n",
        "\n",
        "\n",
        "\n",
        "\n",
        "\n",
        "\n",
        "\n",
        "\n",
        "\n",
        "\n",
        "\n",
        "\n",
        "\n"
      ],
      "metadata": {
        "id": "iw15tFJnWyq4"
      }
    },
    {
      "cell_type": "code",
      "execution_count": null,
      "metadata": {
        "id": "lxTwH9KgWqme"
      },
      "outputs": [],
      "source": []
    },
    {
      "cell_type": "markdown",
      "source": [
        "1.Create a parent class Animal with a method speak() that prints a generic message. Create a child class Dog\n",
        "that overrides the speak() method to print \"Bark!\"."
      ],
      "metadata": {
        "id": "o6UctODY8U5f"
      }
    },
    {
      "cell_type": "code",
      "source": [
        "# Parent class\n",
        "class Animal:\n",
        "    def speak(self):\n",
        "        print(\"This is a generic animal sound.\")\n",
        "\n",
        "# Child class overriding the speak() method\n",
        "class Dog(Animal):\n",
        "    def speak(self):\n",
        "        print(\"Bark!\")\n",
        "\n",
        "dog = Dog()\n",
        "dog.speak()\n"
      ],
      "metadata": {
        "colab": {
          "base_uri": "https://localhost:8080/"
        },
        "id": "nyqlEGuJzzbd",
        "outputId": "287bb6fe-de9f-4ba6-9942-6aa8c8f518d6"
      },
      "execution_count": null,
      "outputs": [
        {
          "output_type": "stream",
          "name": "stdout",
          "text": [
            "Bark!\n"
          ]
        }
      ]
    },
    {
      "cell_type": "markdown",
      "source": [
        "2. Write a program to create an abstract class Shape with a method area(). Derive classes Circle and Rectangle\n",
        "from it and implement the area() method in both."
      ],
      "metadata": {
        "id": "IKmPfVLx0hB3"
      }
    },
    {
      "cell_type": "code",
      "source": [
        "from abc import ABC, abstractmethod\n",
        "\n",
        "# Abstract base class\n",
        "class Shape(ABC):\n",
        "    @abstractmethod\n",
        "    def area(self):\n",
        "        pass\n",
        "\n",
        "# Derived class Circle implementing area()\n",
        "class Circle(Shape):\n",
        "    def __init__(self, radius):\n",
        "        self.radius = radius\n",
        "\n",
        "    def area(self):\n",
        "        return 3.14 * self.radius ** 2\n",
        "\n",
        "# Derived class Rectangle implementing area()\n",
        "class Rectangle(Shape):\n",
        "    def __init__(self, width, height):\n",
        "        self.width = width\n",
        "        self.height = height\n",
        "\n",
        "    def area(self):\n",
        "        return self.width * self.height\n",
        "\n",
        "# Example usage\n",
        "circle = Circle(5)\n",
        "rectangle = Rectangle(4, 6)\n",
        "\n",
        "print(f\"Area of Circle: {circle.area():.2f}\")\n",
        "print(f\"Area of Rectangle: {rectangle.area()}\")\n"
      ],
      "metadata": {
        "colab": {
          "base_uri": "https://localhost:8080/"
        },
        "id": "JcVkbSCb07V2",
        "outputId": "dbb94dce-0ad8-412c-e9e6-a27abbf6f610"
      },
      "execution_count": null,
      "outputs": [
        {
          "output_type": "stream",
          "name": "stdout",
          "text": [
            "Area of Circle: 78.50\n",
            "Area of Rectangle: 24\n"
          ]
        }
      ]
    },
    {
      "cell_type": "markdown",
      "source": [
        "3. Implement a multi-level inheritance scenario where a class Vehicle has an attribute type. Derive a class Car\n",
        "and further derive a class ElectricCar that adds a battery attribute."
      ],
      "metadata": {
        "id": "kMRfyNl314e2"
      }
    },
    {
      "cell_type": "code",
      "source": [
        "# Parent class Vehicle\n",
        "class Vehicle:\n",
        "    def __init__(self, vehicle_type):\n",
        "        self.type = vehicle_type\n",
        "\n",
        "    def show_type(self):\n",
        "        print(f\"Vehicle type: {self.type}\")\n",
        "\n",
        "# Child class Car inheriting from Vehicle\n",
        "class Car(Vehicle):\n",
        "    def __init__(self, vehicle_type, brand):\n",
        "        super().__init__(vehicle_type)\n",
        "        self.brand = brand\n",
        "\n",
        "    def show_brand(self):\n",
        "        print(f\"Car brand: {self.brand}\")\n",
        "\n",
        "# Further derived class ElectricCar inheriting from Car\n",
        "class ElectricCar(Car):\n",
        "    def __init__(self, vehicle_type, brand, battery_capacity):\n",
        "        super().__init__(vehicle_type, brand)\n",
        "        self.battery = battery_capacity\n",
        "\n",
        "    def show_battery(self):\n",
        "        print(f\"Battery capacity: {self.battery} kWh\")\n",
        "\n",
        "\n",
        "ecar = ElectricCar(\"Car\", \"Tesla\", 100)\n",
        "ecar.show_type()\n",
        "ecar.show_brand()\n",
        "ecar.show_battery()\n"
      ],
      "metadata": {
        "id": "4RI2DyFj2d1a",
        "colab": {
          "base_uri": "https://localhost:8080/"
        },
        "outputId": "adc76cf5-fd8c-4fe8-c8ce-726c37673f01"
      },
      "execution_count": 5,
      "outputs": [
        {
          "output_type": "stream",
          "name": "stdout",
          "text": [
            "Vehicle type: Car\n",
            "Car brand: Tesla\n",
            "Battery capacity: 100 kWh\n"
          ]
        }
      ]
    },
    {
      "cell_type": "markdown",
      "source": [
        "4. Demonstrate polymorphism by creating a base class Bird with a method fly(). Create two derived classes\n",
        "Sparrow and Penguin that override the fly() method.\n"
      ],
      "metadata": {
        "id": "wxGVUt6r32E3"
      }
    },
    {
      "cell_type": "code",
      "source": [
        "\n",
        "class Bird:\n",
        "    def fly(self):\n",
        "        print(\"Some generic bird is flying.\")\n",
        "\n",
        "# Derived class Sparrow overriding fly()\n",
        "class Sparrow(Bird):\n",
        "    def fly(self):\n",
        "        print(\"Sparrow flies swiftly.\")\n",
        "\n",
        "\n",
        "class Penguin(Bird):\n",
        "    def fly(self):\n",
        "        print(\"Penguins cannot fly.\")\n",
        "\n",
        "\n",
        "def make_bird_fly(bird):\n",
        "    bird.fly()\n",
        "\n",
        "sparrow = Sparrow()\n",
        "penguin = Penguin()\n",
        "\n",
        "make_bird_fly(sparrow)\n",
        "make_bird_fly(penguin)"
      ],
      "metadata": {
        "id": "EzPNz6DK4CWP"
      },
      "execution_count": null,
      "outputs": []
    },
    {
      "cell_type": "markdown",
      "source": [
        "5. Write a program to demonstrate encapsulation by creating a class BankAccount with private attributes\n",
        "balance and methods to deposit, withdraw, and check balance.\n"
      ],
      "metadata": {
        "id": "zH8uE0p64lgS"
      }
    },
    {
      "cell_type": "code",
      "source": [
        "class BankAccount:\n",
        "    def __init__(self, initial_balance=0):\n",
        "        # Private attribute\n",
        "        self.__balance = initial_balance\n",
        "\n",
        "    def deposit(self, amount):\n",
        "        if amount > 0:\n",
        "            self.__balance += amount\n",
        "            print(f\"Deposited: ${amount:.2f}\")\n",
        "        else:\n",
        "            print(\"Deposit amount must be positive.\")\n",
        "\n",
        "    def withdraw(self, amount):\n",
        "        if amount <= 0:\n",
        "            print(\"Withdrawal amount must be positive.\")\n",
        "        elif amount > self.__balance:\n",
        "            print(\"Insufficient balance.\")\n",
        "        else:\n",
        "            self.__balance -= amount\n",
        "            print(f\"Withdrawn: ${amount:.2f}\")\n",
        "\n",
        "    def check_balance(self):\n",
        "        print(f\"Current balance: ${self.__balance:.2f}\")\n",
        "        return self.__balance\n",
        "\n",
        "\n",
        "\n",
        "account = BankAccount(100)\n",
        "account.check_balance()\n",
        "account.deposit(50)\n",
        "account.check_balance()\n",
        "account.withdraw(70)\n",
        "account.check_balance()\n",
        "account.withdraw(100)\n"
      ],
      "metadata": {
        "colab": {
          "base_uri": "https://localhost:8080/"
        },
        "id": "U2J5C2Gj47Oc",
        "outputId": "e83e5bc1-06b4-40e7-9a2b-2a894e05c8a8"
      },
      "execution_count": 6,
      "outputs": [
        {
          "output_type": "stream",
          "name": "stdout",
          "text": [
            "Current balance: $100.00\n",
            "Deposited: $50.00\n",
            "Current balance: $150.00\n",
            "Withdrawn: $70.00\n",
            "Current balance: $80.00\n",
            "Insufficient balance.\n"
          ]
        }
      ]
    },
    {
      "cell_type": "markdown",
      "source": [
        "6.Demonstrate runtime polymorphism using a method play() in a base class Instrument. Derive classes Guitar\n",
        "and Piano that implement their own version of play()."
      ],
      "metadata": {
        "id": "KapB2vWn6FLG"
      }
    },
    {
      "cell_type": "code",
      "source": [
        "class Instrument:\n",
        "    def play(self):\n",
        "        print(\"Playing the instrument\")\n",
        "\n",
        "class Guitar(Instrument):\n",
        "    def play(self):\n",
        "        print(\"Strumming the guitar\")\n",
        "\n",
        "class Piano(Instrument):\n",
        "    def play(self):\n",
        "        print(\"Playing the piano keys\")\n",
        "\n",
        "# Function to demonstrate runtime polymorphism\n",
        "def perform(instrument):\n",
        "    instrument.play()\n",
        "\n",
        "instruments = [Guitar(), Piano(), Instrument()]\n",
        "\n",
        "for inst in instruments:\n",
        "    perform(inst)\n"
      ],
      "metadata": {
        "colab": {
          "base_uri": "https://localhost:8080/"
        },
        "id": "04xBwCDy6Mr5",
        "outputId": "1fc2a2a2-0200-4d86-881e-9fc905a280c0"
      },
      "execution_count": 7,
      "outputs": [
        {
          "output_type": "stream",
          "name": "stdout",
          "text": [
            "Strumming the guitar\n",
            "Playing the piano keys\n",
            "Playing the instrument\n"
          ]
        }
      ]
    },
    {
      "cell_type": "markdown",
      "source": [
        "7.Create a class MathOperations with a class method add_numbers() to add two numbers and a static\n",
        "method subtract_numbers() to subtract two numbers.\n"
      ],
      "metadata": {
        "id": "gWk50Y3z6rYo"
      }
    },
    {
      "cell_type": "code",
      "source": [
        "class MathOperations:\n",
        "    @classmethod\n",
        "    def add_numbers(cls, a, b):\n",
        "        return a + b\n",
        "\n",
        "    @staticmethod\n",
        "    def subtract_numbers(a, b):\n",
        "        return a - b\n",
        "\n",
        "\n",
        "\n",
        "sum_result = MathOperations.add_numbers(10, 5)\n",
        "diff_result = MathOperations.subtract_numbers(10, 5)\n",
        "\n",
        "print(f\"Sum: {sum_result}\")\n",
        "print(f\"Difference: {diff_result}\")\n"
      ],
      "metadata": {
        "colab": {
          "base_uri": "https://localhost:8080/"
        },
        "id": "C72TagcW6yiq",
        "outputId": "a8da9eb2-55f3-4d12-c488-966107a4d1f4"
      },
      "execution_count": 8,
      "outputs": [
        {
          "output_type": "stream",
          "name": "stdout",
          "text": [
            "Sum: 15\n",
            "Difference: 5\n"
          ]
        }
      ]
    },
    {
      "cell_type": "markdown",
      "source": [
        "8. Implement a class Person with a class method to count the total number of persons created."
      ],
      "metadata": {
        "id": "lO1OoiS37Ub0"
      }
    },
    {
      "cell_type": "code",
      "source": [
        "class Person:\n",
        "    # Class variable to keep count of Person instances\n",
        "    __person_count = 0\n",
        "\n",
        "    def __init__(self, name):\n",
        "        self.name = name\n",
        "        # Increment the count whenever a new Person is created\n",
        "        Person.__person_count += 1\n",
        "\n",
        "    @classmethod\n",
        "    def get_person_count(cls):\n",
        "        \"\"\"Class method to return the total number of Person instances created.\"\"\"\n",
        "        return cls.__person_count\n",
        "\n",
        "\n",
        "\n",
        "p1 = Person(\"Alice\")\n",
        "p2 = Person(\"Bob\")\n",
        "p3 = Person(\"Charlie\")\n",
        "\n",
        "print(f\"Total persons created: {Person.get_person_count()}\")\n"
      ],
      "metadata": {
        "id": "uebWsWPF7Z3s"
      },
      "execution_count": null,
      "outputs": []
    },
    {
      "cell_type": "markdown",
      "source": [
        "9.Write a class Fraction with attributes numerator and denominator. Override the str method to display the\n",
        "fraction as \"numerator/denominator\"."
      ],
      "metadata": {
        "id": "ylMt0dOV7pjN"
      }
    },
    {
      "cell_type": "code",
      "source": [
        "class Fraction:\n",
        "    def __init__(self, numerator, denominator):\n",
        "        self.numerator = numerator\n",
        "        self.denominator = denominator\n",
        "\n",
        "    def __str__(self):\n",
        "        return f\"{self.numerator}/{self.denominator}\"\n",
        "\n",
        "\n",
        "\n",
        "f = Fraction(3, 4)\n",
        "print(f)\n"
      ],
      "metadata": {
        "id": "a8SwXq-y7xjX"
      },
      "execution_count": null,
      "outputs": []
    },
    {
      "cell_type": "markdown",
      "source": [
        "10. Demonstrate operator overloading by creating a class Vector and overriding the add method to add two\n",
        "vectors."
      ],
      "metadata": {
        "id": "NW9sbfpq8CIo"
      }
    },
    {
      "cell_type": "code",
      "source": [
        "class Vector:\n",
        "    def __init__(self, x, y):\n",
        "        self.x = x\n",
        "        self.y = y\n",
        "\n",
        "    def __add__(self, other):\n",
        "        if isinstance(other, Vector):\n",
        "            # Add corresponding components of the vectors\n",
        "            return Vector(self.x + other.x, self.y + other.y)\n",
        "        return NotImplemented\n",
        "\n",
        "    def __str__(self):\n",
        "        return f\"Vector({self.x}, {self.y})\"\n",
        "\n",
        "\n",
        "\n",
        "v1 = Vector(2, 3)\n",
        "v2 = Vector(4, 5)\n",
        "v3 = v1 + v2\n",
        "\n"
      ],
      "metadata": {
        "id": "byffPveJ8OYU"
      },
      "execution_count": null,
      "outputs": []
    },
    {
      "cell_type": "markdown",
      "source": [
        "11. Create a class Person with attributes name and age. Add a method greet() that prints \"Hello, my name is\n",
        "{name} and I am {age} years old.\""
      ],
      "metadata": {
        "id": "orlt3v798r4Z"
      }
    },
    {
      "cell_type": "code",
      "source": [
        "class Person:\n",
        "    def __init__(self, name, age):\n",
        "        self.name = name\n",
        "        self.age = age\n",
        "\n",
        "    def greet(self):\n",
        "        print(f\"Hello, my name is {self.name} and I am {self.age} years old.\")\n",
        "\n",
        "\n",
        "# Example usage:\n",
        "person = Person(\"Alice\", 30)\n",
        "person.greet() .\n"
      ],
      "metadata": {
        "id": "AlASPL6D8y2d"
      },
      "execution_count": null,
      "outputs": []
    },
    {
      "cell_type": "markdown",
      "source": [
        "12.Implement a class Student with attributes name and grades. Create a method average_grade() to compute\n",
        "the average of the grades."
      ],
      "metadata": {
        "id": "nQX4tsnV9Vm4"
      }
    },
    {
      "cell_type": "code",
      "source": [
        "class Student:\n",
        "    def __init__(self, name, grades):\n",
        "        \"\"\"\n",
        "        Initialize the Student object.\n",
        "\n",
        "        :param name: str - Name of the student\n",
        "        :param grades: list of numbers - Grades of the student\n",
        "        \"\"\"\n",
        "        self.name = name\n",
        "        self.grades = grades\n",
        "\n",
        "    def average_grade(self):\n",
        "        \"\"\"\n",
        "        Calculate and return the average of the student's grades.\n",
        "\n",
        "        :return: float - Average grade, or None if no grades are present\n",
        "        \"\"\"\n",
        "        if not self.grades:\n",
        "            return None  # or 0, depending on the requirement\n",
        "        return sum(self.grades) / len(self.grades)\n",
        "\n",
        "\n",
        "student = Student(\"John Doe\", [85, 90, 78, 92])\n",
        "print(f\"Average grade for {student.name}: {student.average_grade():.2f}\")\n",
        "\n"
      ],
      "metadata": {
        "colab": {
          "base_uri": "https://localhost:8080/"
        },
        "id": "HNi4mPnr9gOI",
        "outputId": "9dff9798-20c6-4c0d-ec5f-9d5cda1da973"
      },
      "execution_count": 9,
      "outputs": [
        {
          "output_type": "stream",
          "name": "stdout",
          "text": [
            "Average grade for John Doe: 86.25\n"
          ]
        }
      ]
    },
    {
      "cell_type": "markdown",
      "source": [
        "13. Create a class Rectangle with methods set_dimensions() to set the dimensions and area() to calculate the\n",
        "area.\n",
        "\n",
        "\n"
      ],
      "metadata": {
        "id": "ZxV7lIE596iq"
      }
    },
    {
      "cell_type": "code",
      "source": [
        "class Rectangle:\n",
        "    def __init__(self):\n",
        "        self.width = 0\n",
        "        self.height = 0\n",
        "\n",
        "    def set_dimensions(self, width, height):\n",
        "        \"\"\"\n",
        "        Set the dimensions of the rectangle.\n",
        "\n",
        "        :param width: float or int - Width of the rectangle\n",
        "        :param height: float or int - Height of the rectangle\n",
        "        \"\"\"\n",
        "        if width > 0 and height > 0:\n",
        "            self.width = width\n",
        "            self.height = height\n",
        "        else:\n",
        "            print(\"Width and height must be positive numbers.\")\n",
        "\n",
        "    def area(self):\n",
        "        \"\"\"\n",
        "        Calculate and return the area of the rectangle.\n",
        "\n",
        "        :return: float or int - Area of the rectangle\n",
        "        \"\"\"\n",
        "        return self.width * self.height\n",
        "\n",
        "\n",
        "rect = Rectangle()\n",
        "rect.set_dimensions(5, 10)\n",
        "print(f\"Area of rectangle: {rect.area()}\")\n"
      ],
      "metadata": {
        "id": "Yv08EnXI-DyD"
      },
      "execution_count": null,
      "outputs": []
    },
    {
      "cell_type": "markdown",
      "source": [
        "14.Create a class Employee with a method calculate_salary() that computes the salary based on hours worked\n",
        "and hourly rate. Create a derived class Manager that adds a bonus to the salary."
      ],
      "metadata": {
        "id": "GVpBAm5s-T6k"
      }
    },
    {
      "cell_type": "code",
      "source": [
        "class Employee:\n",
        "    def __init__(self, name, hours_worked, hourly_rate):\n",
        "        self.name = name\n",
        "        self.hours_worked = hours_worked\n",
        "        self.hourly_rate = hourly_rate\n",
        "\n",
        "    def calculate_salary(self):\n",
        "        \"\"\"\n",
        "        Calculate salary based on hours worked and hourly rate.\n",
        "        \"\"\"\n",
        "        salary = self.hours_worked * self.hourly_rate\n",
        "        return salary\n",
        "\n",
        "\n",
        "class Manager(Employee):\n",
        "    def __init__(self, name, hours_worked, hourly_rate, bonus):\n",
        "        super().__init__(name, hours_worked, hourly_rate)\n",
        "        self.bonus = bonus\n",
        "\n",
        "    def calculate_salary(self):\n",
        "        \"\"\"\n",
        "        Calculate salary including bonus.\n",
        "        \"\"\"\n",
        "        base_salary = super().calculate_salary()\n",
        "        total_salary = base_salary + self.bonus\n",
        "        return total_salary\n",
        "\n",
        "\n",
        "emp = Employee(\"John\", 40, 20)\n",
        "mgr = Manager(\"Alice\", 40, 30, 500)\n",
        "\n",
        "print(f\"{emp.name}'s salary: ${emp.calculate_salary():.2f}\")\n",
        "print(f\"{mgr.name}'s salary: ${mgr.calculate_salary():.2f}\")\n"
      ],
      "metadata": {
        "colab": {
          "base_uri": "https://localhost:8080/"
        },
        "id": "SuMbIbqL-bnF",
        "outputId": "4d744636-3e05-4044-f6d9-83208480df28"
      },
      "execution_count": 10,
      "outputs": [
        {
          "output_type": "stream",
          "name": "stdout",
          "text": [
            "John's salary: $800.00\n",
            "Alice's salary: $1700.00\n"
          ]
        }
      ]
    },
    {
      "cell_type": "markdown",
      "source": [
        "15. Create a class Product with attributes name, price, and quantity. Implement a method total_price() that\n",
        "calculates the total price of the product."
      ],
      "metadata": {
        "id": "5J7XYsI_-v5I"
      }
    },
    {
      "cell_type": "code",
      "source": [
        "class Product:\n",
        "    def __init__(self, name, price, quantity):\n",
        "        \"\"\"\n",
        "        Initialize the Product object.\n",
        "\n",
        "        :param name: str - Name of the product\n",
        "        :param price: float - Price per unit of the product\n",
        "        :param quantity: int - Quantity of the product\n",
        "        \"\"\"\n",
        "        self.name = name\n",
        "        self.price = price\n",
        "        self.quantity = quantity\n",
        "\n",
        "    def total_price(self):\n",
        "        \"\"\"\n",
        "        Calculate and return the total price of the product.\n",
        "\n",
        "        :return: float - Total price (price * quantity)\n",
        "        \"\"\"\n",
        "        return self.price * self.quantity\n",
        "\n",
        "\n",
        "\n",
        "product = Product(\"Laptop\", 750.00, 3)\n",
        "print(f\"Total price for {product.quantity} {product.name}s: ${product.total_price():.2f}\")\n",
        "\n"
      ],
      "metadata": {
        "colab": {
          "base_uri": "https://localhost:8080/"
        },
        "id": "IUdb7hBo-7E-",
        "outputId": "054161d3-70bf-4cff-ca59-db32d7b6b5ea"
      },
      "execution_count": 11,
      "outputs": [
        {
          "output_type": "stream",
          "name": "stdout",
          "text": [
            "Total price for 3 Laptops: $2250.00\n"
          ]
        }
      ]
    },
    {
      "cell_type": "markdown",
      "source": [
        "16.Create a class Animal with an abstract method sound(). Create two derived classes Cow and Sheep that\n",
        "implement the sound() method."
      ],
      "metadata": {
        "id": "g8kQlOhk_GAQ"
      }
    },
    {
      "cell_type": "code",
      "source": [
        "from abc import ABC, abstractmethod\n",
        "\n",
        "class Animal(ABC):\n",
        "    @abstractmethod\n",
        "    def sound(self):\n",
        "        pass\n",
        "\n",
        "class Cow(Animal):\n",
        "    def sound(self):\n",
        "        return \"Moo\"\n",
        "\n",
        "class Sheep(Animal):\n",
        "    def sound(self):\n",
        "        return \"Baa\"\n",
        "\n",
        "\n",
        "animals = [Cow(), Sheep()]\n",
        "\n",
        "for animal in animals:\n",
        "    print(f\"{animal.__class__.__name__} says: {animal.sound()}\")\n"
      ],
      "metadata": {
        "colab": {
          "base_uri": "https://localhost:8080/"
        },
        "id": "A3x1GOfq_NZ7",
        "outputId": "f175fb4d-2643-4491-9996-4f9dc54f36a8"
      },
      "execution_count": 12,
      "outputs": [
        {
          "output_type": "stream",
          "name": "stdout",
          "text": [
            "Cow says: Moo\n",
            "Sheep says: Baa\n"
          ]
        }
      ]
    },
    {
      "cell_type": "markdown",
      "source": [
        "17.Create a class Book with attributes title, author, and year_published. Add a method get_book_info() that\n",
        "returns a formatted string with the book's details."
      ],
      "metadata": {
        "id": "5cuASl4D_X46"
      }
    },
    {
      "cell_type": "code",
      "source": [
        "class Book:\n",
        "    def __init__(self, title, author, year_published):\n",
        "        self.title = title\n",
        "        self.author = author\n",
        "        self.year_published = year_published\n",
        "\n",
        "    def get_book_info(self):\n",
        "        return f\"'{self.title}' by {self.author}, published in {self.year_published}\"\n",
        "\n",
        "\n",
        "\n",
        "book = Book(\"To Kill a Mockingbird\", \"Harper Lee\", 1960)\n",
        "print(book.get_book_info())\n",
        "\n"
      ],
      "metadata": {
        "colab": {
          "base_uri": "https://localhost:8080/"
        },
        "id": "yulBz-z4_d_U",
        "outputId": "644e4c84-c496-460b-917c-c1f7c5b7f261"
      },
      "execution_count": 13,
      "outputs": [
        {
          "output_type": "stream",
          "name": "stdout",
          "text": [
            "'To Kill a Mockingbird' by Harper Lee, published in 1960\n"
          ]
        }
      ]
    },
    {
      "cell_type": "markdown",
      "source": [
        "18. Create a class House with attributes address and price. Create a derived class Mansion that adds an\n",
        "attribute number_of_rooms."
      ],
      "metadata": {
        "id": "_a9kK5b8_odG"
      }
    },
    {
      "cell_type": "code",
      "source": [
        "class House:\n",
        "    def __init__(self, address, price):\n",
        "        self.address = address\n",
        "        self.price = price\n",
        "\n",
        "    def __str__(self):\n",
        "        return f\"House at {self.address} priced at ${self.price:,}\"\n",
        "\n",
        "\n",
        "class Mansion(House):\n",
        "    def __init__(self, address, price, number_of_rooms):\n",
        "        super().__init__(address, price)\n",
        "        self.number_of_rooms = number_of_rooms\n",
        "\n",
        "    def __str__(self):\n",
        "        return (f\"Mansion at {self.address} priced at ${self.price:,} \"\n",
        "                f\"with {self.number_of_rooms} rooms\")\n",
        "\n",
        "\n",
        "\n",
        "house = House(\"123 Maple Street\", 250000)\n",
        "mansion = Mansion(\"456 Oak Avenue\", 1250000, 10)\n",
        "\n",
        "print(house)\n",
        "print(mansion)\n"
      ],
      "metadata": {
        "colab": {
          "base_uri": "https://localhost:8080/"
        },
        "id": "nRU5RS5p_vdo",
        "outputId": "14b13b5e-3859-4021-872b-aa91fd2cde4e"
      },
      "execution_count": 14,
      "outputs": [
        {
          "output_type": "stream",
          "name": "stdout",
          "text": [
            "House at 123 Maple Street priced at $250,000\n",
            "Mansion at 456 Oak Avenue priced at $1,250,000 with 10 rooms\n"
          ]
        }
      ]
    }
  ]
}